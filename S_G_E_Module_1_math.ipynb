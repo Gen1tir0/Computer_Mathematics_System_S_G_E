{
  "nbformat": 4,
  "nbformat_minor": 0,
  "metadata": {
    "colab": {
      "provenance": [],
      "authorship_tag": "ABX9TyPi8wXKjxtwGCKzZmRxDusQ",
      "include_colab_link": true
    },
    "kernelspec": {
      "name": "python3",
      "display_name": "Python 3"
    },
    "language_info": {
      "name": "python"
    }
  },
  "cells": [
    {
      "cell_type": "markdown",
      "metadata": {
        "id": "view-in-github",
        "colab_type": "text"
      },
      "source": [
        "<a href=\"https://colab.research.google.com/github/Gen1tir0/Computer_Mathematics_System_S_G_E/blob/main/S_G_E_Module_1_math.ipynb\" target=\"_parent\"><img src=\"https://colab.research.google.com/assets/colab-badge.svg\" alt=\"Open In Colab\"/></a>"
      ]
    },
    {
      "cell_type": "code",
      "execution_count": 2,
      "metadata": {
        "id": "nBiL4AnOCUHq"
      },
      "outputs": [],
      "source": [
        "from math import pow, sqrt\n",
        "\n",
        "def get_data(func):\n",
        "    def wrapper(*args, **kwargs):\n",
        "        a = float(input('Введите коэффициент a >> '))\n",
        "        b = float(input('Введите коэффициент b >> '))\n",
        "        c = float(input('Введите коэффициент c >> '))\n",
        "        return func(a,b,c)\n",
        "    return wrapper\n",
        "\n",
        "@get_data\n",
        "def task_1(a, b, c):\n",
        "    discriminant = pow(b, 2) - 4*a*c\n",
        "    if discriminant < 0:\n",
        "        return 'Корней нет'\n",
        "    elif discriminant == 0:\n",
        "        root = -b / (2*a)\n",
        "        return (f'Уравнение имеет один корень: {root}')\n",
        "    else:\n",
        "        root_1 = (-b + sqrt(discriminant))/2*a\n",
        "        root_2 = (-b - sqrt(discriminant))/2*a\n",
        "        return (f'Уравнение имееет два корня: x1 = {root_1}, x2 = {root_2}')\n"
      ]
    },
    {
      "cell_type": "code",
      "source": [
        "task_1()"
      ],
      "metadata": {
        "colab": {
          "base_uri": "https://localhost:8080/",
          "height": 87
        },
        "id": "CIaX1NthClKO",
        "outputId": "6f6b872d-4c9b-4154-f459-82aecc19767d"
      },
      "execution_count": 3,
      "outputs": [
        {
          "name": "stdout",
          "output_type": "stream",
          "text": [
            "Введите коэффициент a >> 1\n",
            "Введите коэффициент b >> -2\n",
            "Введите коэффициент c >> 1\n"
          ]
        },
        {
          "output_type": "execute_result",
          "data": {
            "text/plain": [
              "'Уравнение имеет один корень: 1.0'"
            ],
            "application/vnd.google.colaboratory.intrinsic+json": {
              "type": "string"
            }
          },
          "metadata": {},
          "execution_count": 3
        }
      ]
    },
    {
      "cell_type": "code",
      "source": [
        "from math import pow, sin, pi, e\n",
        "\n",
        "def f(x):\n",
        "    return sin(x)\n",
        "\n",
        "def convert_const(var): # на случай, если захочется ввести число ПИ строкой\n",
        "    if var.lower() == 'pi':\n",
        "        return pi\n",
        "    else:\n",
        "        return float(var)\n",
        "\n",
        "def get_data(func):\n",
        "    def wrapper(*args, **kwargs):\n",
        "        a = convert_const(input('Введите начало интервала >> '))\n",
        "        b = convert_const(input('Введите конец интервала >> '))\n",
        "        n = int(input('Введите количество разбиений >> '))\n",
        "        return func(f, a, b, n)\n",
        "    return wrapper\n",
        "\n",
        "@get_data\n",
        "def task_2(f, a, b, n):\n",
        "    h = (b-a)/n\n",
        "    integral = (f(a)+f(b))* h / 2\n",
        "    for i in range(1, n):\n",
        "        integral += f(a + i*h)*h\n",
        "\n",
        "    return (f'Значение интеграла: {integral}')\n"
      ],
      "metadata": {
        "id": "Gu44umOvCoHG"
      },
      "execution_count": 7,
      "outputs": []
    },
    {
      "cell_type": "code",
      "source": [
        "task_2()"
      ],
      "metadata": {
        "colab": {
          "base_uri": "https://localhost:8080/",
          "height": 87
        },
        "id": "xbpAN8eWCu_K",
        "outputId": "ed0b176f-fa58-4d48-ae4e-6f32ef804d69"
      },
      "execution_count": 8,
      "outputs": [
        {
          "name": "stdout",
          "output_type": "stream",
          "text": [
            "Введите начало интервала >> 0\n",
            "Введите конец интервала >> PI\n",
            "Введите количество разбиений >> 1000\n"
          ]
        },
        {
          "output_type": "execute_result",
          "data": {
            "text/plain": [
              "'Значение интеграла: 1.9999983550656637'"
            ],
            "application/vnd.google.colaboratory.intrinsic+json": {
              "type": "string"
            }
          },
          "metadata": {},
          "execution_count": 8
        }
      ]
    },
    {
      "cell_type": "code",
      "source": [
        "from math import pow\n",
        "\n",
        "def f(x):\n",
        "    return (pow(x, 3) - x - 2)\n",
        "\n",
        "def get_data():\n",
        "      a = float(input('Введите начало интервала >> '))\n",
        "      b = float(input('Введите конец интервала >> '))\n",
        "      accuracy = float(input('Введите точность (например, 0.001) >> '))\n",
        "      return task_3(f, a, b, accuracy)\n",
        "\n",
        "def task_3(f, a, b, accuracy):\n",
        "    if ((f(a))*(f(b))) >= 0:\n",
        "        return 'Метод бисекции неприменим'\n",
        "    c = (a+b)/2\n",
        "    if f(c) == 0 or (b-a)/2 < accuracy:\n",
        "        return f'Найден корень {c}'\n",
        "    if (f(a)*f(c)) < 0:\n",
        "        return task_3(f, a, c, accuracy)\n",
        "    if (f(b)*f(c)) < 0:\n",
        "        return task_3(f, c, b, accuracy)\n"
      ],
      "metadata": {
        "id": "lQmBdu1ACoDw"
      },
      "execution_count": 14,
      "outputs": []
    },
    {
      "cell_type": "code",
      "source": [
        "get_data()"
      ],
      "metadata": {
        "colab": {
          "base_uri": "https://localhost:8080/",
          "height": 87
        },
        "id": "RZbZlVURCoAo",
        "outputId": "7529aa8f-e448-4146-87bf-28d5b50a0acd"
      },
      "execution_count": 16,
      "outputs": [
        {
          "name": "stdout",
          "output_type": "stream",
          "text": [
            "Введите начало интервала >> 1\n",
            "Введите конец интервала >> 2\n",
            "Введите точность (например, 0.001) >> 0.001\n"
          ]
        },
        {
          "output_type": "execute_result",
          "data": {
            "text/plain": [
              "'Найден корень 1.5205078125'"
            ],
            "application/vnd.google.colaboratory.intrinsic+json": {
              "type": "string"
            }
          },
          "metadata": {},
          "execution_count": 16
        }
      ]
    },
    {
      "cell_type": "code",
      "source": [
        "from math import exp\n",
        "\n",
        "def get_data(func):\n",
        "    def wrapper(*args, **kwargs):\n",
        "        p = float(input('Введите первоначальную сумму >> '))\n",
        "        r = float(input('Введите процентную ставку в десятичной форме >> '))\n",
        "        t = int(input('Введите срок вклада в годах >> '))\n",
        "        return func(p, r, t)\n",
        "    return wrapper\n",
        "\n",
        "@get_data\n",
        "def task_4(p, r, t):\n",
        "    return (f'Итоговая сумма депозита: {round(p*(exp(r*t)), 2)}')\n"
      ],
      "metadata": {
        "id": "AqxUEEyFCn91"
      },
      "execution_count": 17,
      "outputs": []
    },
    {
      "cell_type": "code",
      "source": [
        "task_4()"
      ],
      "metadata": {
        "colab": {
          "base_uri": "https://localhost:8080/",
          "height": 87
        },
        "id": "mu__RKA6CnrL",
        "outputId": "62cb79db-a73b-46fa-b563-1d2875f22c7b"
      },
      "execution_count": 18,
      "outputs": [
        {
          "name": "stdout",
          "output_type": "stream",
          "text": [
            "Введите первоначальную сумму >> 10000\n",
            "Введите процентную ставку в десятичной форме >> 0.05\n",
            "Введите срок вклада в годах >> 2\n"
          ]
        },
        {
          "output_type": "execute_result",
          "data": {
            "text/plain": [
              "'Итоговая сумма депозита: 11051.71'"
            ],
            "application/vnd.google.colaboratory.intrinsic+json": {
              "type": "string"
            }
          },
          "metadata": {},
          "execution_count": 18
        }
      ]
    },
    {
      "cell_type": "code",
      "source": [
        "from math import log\n",
        "\n",
        "def get_data(func):\n",
        "    def wrapper(*args, **kwargs):\n",
        "        p = float(input('Введите первоначальную сумму >> '))\n",
        "        a = float(input('Введите итоговую сумму >> '))\n",
        "        t = int(input('Введите срок вклада в годах >> '))\n",
        "        return func(p, a, t)\n",
        "    return wrapper\n",
        "\n",
        "@get_data\n",
        "def task_5(p, a, t):\n",
        "    return (f'Процентная ставка вклада: {round((1/t)*(log(a/p))*100, 2)}%')\n"
      ],
      "metadata": {
        "id": "dH3CoP9WC7-Y"
      },
      "execution_count": 20,
      "outputs": []
    },
    {
      "cell_type": "code",
      "source": [
        "task_5()"
      ],
      "metadata": {
        "colab": {
          "base_uri": "https://localhost:8080/",
          "height": 87
        },
        "id": "a4o18zr6C74O",
        "outputId": "e177dbcb-0f9a-4985-8e45-1d24be17cfa5"
      },
      "execution_count": 21,
      "outputs": [
        {
          "name": "stdout",
          "output_type": "stream",
          "text": [
            "Введите первоначальную сумму >> 10000\n",
            "Введите итоговую сумму >> 11051.71\n",
            "Введите срок вклада в годах >> 2\n"
          ]
        },
        {
          "output_type": "execute_result",
          "data": {
            "text/plain": [
              "'Процентная ставка вклада: 5.0%'"
            ],
            "application/vnd.google.colaboratory.intrinsic+json": {
              "type": "string"
            }
          },
          "metadata": {},
          "execution_count": 21
        }
      ]
    },
    {
      "cell_type": "code",
      "source": [
        "from math import sqrt\n",
        "\n",
        "def sqrt_newton_method(a, epsilon=1e-10):\n",
        "    x = a\n",
        "    while True:\n",
        "        next_x = 0.5 * (x + a / x)\n",
        "        if abs(x - next_x) < epsilon:\n",
        "            return next_x\n",
        "        x = next_x\n",
        "\n",
        "def task_6():\n",
        "    a = float(input('Введите число для извлечения квадратного корня >> '))\n",
        "    sqrt_newton = sqrt_newton_method(a)\n",
        "    sqrt_math = sqrt(a)\n",
        "    return (f'Квадратный корень из {a} методом Ньютона: {sqrt_newton}\\nКвадратный корень из {a} стандартной функцией: {sqrt_math}\\nРазница между методами: {sqrt_math - sqrt_newton}')\n"
      ],
      "metadata": {
        "id": "cMWauvG1C7lB"
      },
      "execution_count": 22,
      "outputs": []
    },
    {
      "cell_type": "code",
      "source": [
        "print(task_6())"
      ],
      "metadata": {
        "colab": {
          "base_uri": "https://localhost:8080/"
        },
        "id": "-lRET6v8C7eh",
        "outputId": "0f98a0a2-aa67-4830-a117-1eff2e6eb38f"
      },
      "execution_count": 25,
      "outputs": [
        {
          "output_type": "stream",
          "name": "stdout",
          "text": [
            "Введите число для извлечения квадратного корня >> 2\n",
            "Квадратный корень из 2.0 методом Ньютона: 1.414213562373095\n",
            "Квадратный корень из 2.0 стандартной функцией: 1.4142135623730951\n",
            "Разница между методами: 2.220446049250313e-16\n"
          ]
        }
      ]
    },
    {
      "cell_type": "code",
      "source": [
        "from math import sqrt, pow, acos, degrees\n",
        "\n",
        "def convert_to_tuple(string):\n",
        "    return tuple(float(x) for x in string.split(\",\"))\n",
        "\n",
        "def get_data(func):\n",
        "    def wrapper(*args, **kwargs):\n",
        "        vec_1 = convert_to_tuple(input('Введите координаты первого вектора (a, b) >> '))\n",
        "        vec_2 = convert_to_tuple(input('Введите координаты второго вектора (a, b) >> '))\n",
        "        return func(vec_1, vec_2)\n",
        "    return wrapper\n",
        "\n",
        "@get_data\n",
        "def task_7(vec_1, vec_2):\n",
        "    x1, x2 = vec_1[0], vec_2[0]\n",
        "    y1, y2 = vec_1[1], vec_2[1]\n",
        "    ab = x1*x2 + y1*y2\n",
        "    len_a = sqrt(pow(x1, 2) + pow (y1, 2))\n",
        "    len_b = sqrt(pow(x2, 2) + pow (y2, 2))\n",
        "    rad_angle = acos(round(ab/len_a/len_b, 2))\n",
        "    return (f'Угол между векторами равен: {degrees(rad_angle)} градусов')\n"
      ],
      "metadata": {
        "id": "pNDfuQhsC7Ri"
      },
      "execution_count": 26,
      "outputs": []
    },
    {
      "cell_type": "code",
      "source": [
        "task_7()"
      ],
      "metadata": {
        "colab": {
          "base_uri": "https://localhost:8080/",
          "height": 70
        },
        "id": "zWUt7_1wC7Ln",
        "outputId": "7fcca571-90df-4878-f472-c7590c962a0c"
      },
      "execution_count": 28,
      "outputs": [
        {
          "name": "stdout",
          "output_type": "stream",
          "text": [
            "Введите координаты первого вектора (a, b) >> -3, 2\n",
            "Введите координаты второго вектора (a, b) >> 3, -2\n"
          ]
        },
        {
          "output_type": "execute_result",
          "data": {
            "text/plain": [
              "'Угол между векторами равен: 180.0 градусов'"
            ],
            "application/vnd.google.colaboratory.intrinsic+json": {
              "type": "string"
            }
          },
          "metadata": {},
          "execution_count": 28
        }
      ]
    },
    {
      "cell_type": "code",
      "source": [
        "from math import sin, cos, radians\n",
        "\n",
        "def get_data(func):\n",
        "    def wrapper(*args, **kwargs):\n",
        "        r = float(input('Введите радиус окружности >> '))\n",
        "        theta = float(input('Введите угол Theta (в градусах) >> '))\n",
        "        return func(r, theta)\n",
        "    return wrapper\n",
        "\n",
        "@get_data\n",
        "def task_8(r, angle):\n",
        "    x = r * round(cos(radians(angle)), 5)\n",
        "    y = r * round(sin(radians(angle)), 5)\n",
        "    return (f'Координаты точки P: ({x}, {y})')"
      ],
      "metadata": {
        "id": "7Wpwo0Q1C69X"
      },
      "execution_count": 31,
      "outputs": []
    },
    {
      "cell_type": "code",
      "source": [
        "task_8()"
      ],
      "metadata": {
        "colab": {
          "base_uri": "https://localhost:8080/",
          "height": 70
        },
        "id": "jIyN8o8pC6zp",
        "outputId": "3f76cd42-9100-4cfe-cab7-d2c16996944d"
      },
      "execution_count": 32,
      "outputs": [
        {
          "name": "stdout",
          "output_type": "stream",
          "text": [
            "Введите радиус окружности >> 5\n",
            "Введите угол Theta (в градусах) >> 45\n"
          ]
        },
        {
          "output_type": "execute_result",
          "data": {
            "text/plain": [
              "'Координаты точки P: (3.53555, 3.53555)'"
            ],
            "application/vnd.google.colaboratory.intrinsic+json": {
              "type": "string"
            }
          },
          "metadata": {},
          "execution_count": 32
        }
      ]
    },
    {
      "cell_type": "code",
      "source": [
        "from math import erf, sqrt\n",
        "\n",
        "def get_data(func):\n",
        "    def wrapper(*args, **kwargs):\n",
        "        x = float(input('Введите X >> '))\n",
        "        return(func(x))\n",
        "    return wrapper\n",
        "\n",
        "@get_data\n",
        "def task_9(x):\n",
        "    probability = (1/2) * (erf(x / sqrt(2)) - erf(-x / sqrt(2)))\n",
        "    return (f'Вероятность равна: {probability}')"
      ],
      "metadata": {
        "id": "8E_R4-kTC5M5"
      },
      "execution_count": 33,
      "outputs": []
    },
    {
      "cell_type": "code",
      "source": [
        "task_9()"
      ],
      "metadata": {
        "colab": {
          "base_uri": "https://localhost:8080/",
          "height": 53
        },
        "id": "3g7NBvGiC5JY",
        "outputId": "321687b6-03c1-442f-fc7f-8edbc8433045"
      },
      "execution_count": 35,
      "outputs": [
        {
          "name": "stdout",
          "output_type": "stream",
          "text": [
            "Введите X >> 2\n"
          ]
        },
        {
          "output_type": "execute_result",
          "data": {
            "text/plain": [
              "'Вероятность равна: 0.9544997361036416'"
            ],
            "application/vnd.google.colaboratory.intrinsic+json": {
              "type": "string"
            }
          },
          "metadata": {},
          "execution_count": 35
        }
      ]
    },
    {
      "cell_type": "code",
      "source": [
        "from math import pi, pow, gamma\n",
        "\n",
        "def get_data(func):\n",
        "    def wrapper(*args, **kwargs):\n",
        "        n = int(input('Введите размерность пространства >> '))\n",
        "        r = int(input('Введите радиус сферы >> '))\n",
        "        return func(n, r)\n",
        "    return wrapper\n",
        "\n",
        "@get_data\n",
        "def task_10(n, r):\n",
        "    result = pow(pi, n/2) * pow(r, n) / gamma(n/2 + 1)\n",
        "    return (f'Объем {n}-мерной сферы радиуса {r} равен {result}')"
      ],
      "metadata": {
        "id": "ryByxvNtC5Fm"
      },
      "execution_count": 36,
      "outputs": []
    },
    {
      "cell_type": "code",
      "source": [
        "task_10()"
      ],
      "metadata": {
        "colab": {
          "base_uri": "https://localhost:8080/",
          "height": 70
        },
        "id": "JGcrY1CtC4_i",
        "outputId": "ae4ed418-9439-45dd-b428-238fc1f94288"
      },
      "execution_count": 38,
      "outputs": [
        {
          "name": "stdout",
          "output_type": "stream",
          "text": [
            "Введите размерность пространства >> 10\n",
            "Введите радиус сферы >> 2\n"
          ]
        },
        {
          "output_type": "execute_result",
          "data": {
            "text/plain": [
              "'Объем 10-мерной сферы радиуса 2 равен 2611.3679768344014'"
            ],
            "application/vnd.google.colaboratory.intrinsic+json": {
              "type": "string"
            }
          },
          "metadata": {},
          "execution_count": 38
        }
      ]
    },
    {
      "cell_type": "code",
      "source": [
        "from math import sin, cos, exp, log, pi, e, pow\n",
        "\n",
        "def get_data(func):\n",
        "    def wrapper(*args, **kwargs):\n",
        "        angle = float(input('Введите угол падения солнечных лучей >> '))\n",
        "        sun_intensity = float(input('Введите интенсивность солнечного света >> '))\n",
        "        pressure = float(input('Введите атмосферное давление на уровне моря >> '))\n",
        "        return func(angle, sun_intensity, pressure)\n",
        "    return wrapper\n",
        "\n",
        "@get_data\n",
        "def complex_1(a, i, p):\n",
        "    effective_angle = sin(pi * a / 180)\n",
        "    p_eff = pow(e, (-p / 101325))\n",
        "    i_surf = round(i * effective_angle * log(p_eff + 1), 2)\n",
        "    if i_surf <= 0:\n",
        "        return f'Эффективная температура на поверхности: {i_surf} градусов по Цельсию. Вода в жидком состоянии существовать не может'\n",
        "    return f'Эффективная температура на поверхности: {i_surf} градусов по Цельсию. Вода в жидком состоянии может существовать'"
      ],
      "metadata": {
        "id": "51SsVTomC41g"
      },
      "execution_count": 39,
      "outputs": []
    },
    {
      "cell_type": "code",
      "source": [
        "complex_1()"
      ],
      "metadata": {
        "colab": {
          "base_uri": "https://localhost:8080/",
          "height": 87
        },
        "id": "RIqEGXltC4ji",
        "outputId": "1491c188-542b-48a0-81c3-de1515f74e7e"
      },
      "execution_count": 40,
      "outputs": [
        {
          "name": "stdout",
          "output_type": "stream",
          "text": [
            "Введите угол падения солнечных лучей >> 210\n",
            "Введите интенсивность солнечного света >> 24000\n",
            "Введите атмосферное давление на уровне моря >> 101325\n"
          ]
        },
        {
          "output_type": "execute_result",
          "data": {
            "text/plain": [
              "'Эффективная температура на поверхности: -3759.14 градусов по Цельсию. Вода в жидком состоянии существовать не может'"
            ],
            "application/vnd.google.colaboratory.intrinsic+json": {
              "type": "string"
            }
          },
          "metadata": {},
          "execution_count": 40
        }
      ]
    }
  ]
}