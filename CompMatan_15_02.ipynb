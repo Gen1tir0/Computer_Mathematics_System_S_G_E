{
 "cells": [
  {
   "cell_type": "code",
   "execution_count": 1,
   "id": "19959f3c-42f5-41d2-8a26-f6e81208fadc",
   "metadata": {},
   "outputs": [],
   "source": [
    "from math import pow, sqrt\n",
    "\n",
    "def get_data(func):\n",
    "    def wrapper(*args, **kwargs):\n",
    "        a = float(input('Введите коэффициент a >> '))\n",
    "        b = float(input('Введите коэффициент b >> '))\n",
    "        c = float(input('Введите коэффициент c >> '))\n",
    "        return func(a,b,c)\n",
    "    return wrapper\n",
    "\n",
    "@get_data\n",
    "def task_1(a, b, c):\n",
    "    discriminant = pow(b, 2) - 4*a*c\n",
    "    if discriminant < 0:\n",
    "        return 'Корней нет'\n",
    "    elif discriminant == 0:\n",
    "        root = -b / (2*a)\n",
    "        return (f'Уравнение имеет один корень: {root}')\n",
    "    else:\n",
    "        root_1 = (-b + sqrt(discriminant))/2*a\n",
    "        root_2 = (-b - sqrt(discriminant))/2*a\n",
    "        return (f'Уравнение имееет два корня: x1 = {root_1}, x2 = {root_2}')\n"
   ]
  },
  {
   "cell_type": "code",
   "execution_count": 2,
   "id": "1200de39-a397-4a8a-8dfc-e0c7d3ba1ba7",
   "metadata": {},
   "outputs": [
    {
     "name": "stdin",
     "output_type": "stream",
     "text": [
      "Введите коэффициент a >>  1\n",
      "Введите коэффициент b >>  2\n",
      "Введите коэффициент c >>  3\n"
     ]
    },
    {
     "data": {
      "text/plain": [
       "'Корней нет'"
      ]
     },
     "execution_count": 2,
     "metadata": {},
     "output_type": "execute_result"
    }
   ],
   "source": [
    "task_1()"
   ]
  },
  {
   "cell_type": "code",
   "execution_count": 9,
   "id": "bc8d3c59-6d14-4adc-93f0-1725e75da2d1",
   "metadata": {},
   "outputs": [],
   "source": [
    "from math import pow, sin, pi, e\n",
    "\n",
    "def f(x):\n",
    "    return sin(x)\n",
    "\n",
    "def convert_const(var): # на случай, если захочется ввести число ПИ строкой\n",
    "    if var.lower() == 'pi':\n",
    "        return pi\n",
    "    else:\n",
    "        return float(var)\n",
    "\n",
    "def get_data(func):\n",
    "    def wrapper(*args, **kwargs):\n",
    "        a = convert_const(input('Введите начало интервала >> '))\n",
    "        b = convert_const(input('Введите конец интервала >> '))\n",
    "        n = int(input('Введите количество разбиений >> '))\n",
    "        return func(f, a, b, n)\n",
    "    return wrapper\n",
    "\n",
    "@get_data\n",
    "def task_2(f, a, b, n):\n",
    "    h = (b-a)/n\n",
    "    integral = (f(a)+f(b))* h / 2\n",
    "    for i in range(1, n):\n",
    "        integral += f(a + i*h)*h\n",
    "        \n",
    "    return integral\n"
   ]
  },
  {
   "cell_type": "code",
   "execution_count": 10,
   "id": "68776362-29a2-4eae-938f-7caf1da733f8",
   "metadata": {},
   "outputs": [
    {
     "name": "stdin",
     "output_type": "stream",
     "text": [
      "Введите начало интервала >>  1\n",
      "Введите конец интервала >>  pi\n",
      "Введите количество разбиений >>  1000\n"
     ]
    },
    {
     "data": {
      "text/plain": [
       "1.5403017171621038"
      ]
     },
     "execution_count": 10,
     "metadata": {},
     "output_type": "execute_result"
    }
   ],
   "source": [
    "task_2()"
   ]
  },
  {
   "cell_type": "code",
   "execution_count": 40,
   "id": "aac94f3f-9cf3-4a32-908a-66014bacc9c9",
   "metadata": {},
   "outputs": [],
   "source": [
    "from math import pow\n",
    "\n",
    "def f(x):\n",
    "    return (pow(x, 3) - x - 2)\n",
    "\n",
    "def get_data(func):\n",
    "    def wrapper(*args, **kwargs)\n",
    "        a = float(input('Введите начало интервала >> '))\n",
    "        b = float(input('Введите конец интервала >> '))\n",
    "        accuracy = float(input('Введите точность (например, 0.001) >> '))\n",
    "        return func(f, a, b, accuracy)\n",
    "    return wrapper\n",
    "\n",
    "@get_data\n",
    "def task_3(f, a, b, accuracy):\n",
    "    if ((f(a))*(f(b))) >= 0:\n",
    "        return 'Метод бисекции неприменим'\n",
    "    c = (a+b)/2\n",
    "    if f(c) == 0 or (b-a)/2 < accuracy:\n",
    "        return f'Найден корень {c}'\n",
    "    if (f(a)*f(c)) < 0:\n",
    "        return task_3(f, a, c, accuracy)\n",
    "    if (f(b)*f(c)) < 0:\n",
    "        return task_3(f, c, b, accuracy)\n"
   ]
  },
  {
   "cell_type": "code",
   "execution_count": null,
   "id": "7c94a542-4712-4880-9177-16229fc080df",
   "metadata": {},
   "outputs": [],
   "source": [
    "task_3()"
   ]
  },
  {
   "cell_type": "code",
   "execution_count": 12,
   "id": "51fefc1f-c9c6-412d-8214-08ed3dc1a3d2",
   "metadata": {},
   "outputs": [],
   "source": [
    "from math import exp\n",
    "\n",
    "def get_data(func):\n",
    "    def wrapper(*args, **kwargs):\n",
    "        p = float(input('Введите первоначальную сумму >> '))\n",
    "        r = float(input('Введите процентную ставку >> '))\n",
    "        t = int(input('Введите срок вклада в годах >> '))\n",
    "        return func(p, r, t)\n",
    "    return wrapper\n",
    "\n",
    "@get_data\n",
    "def task_4(p, r, t):\n",
    "    return (f'Итоговая сумма депозита: {round(p*(exp(r*t)), 2)}')\n"
   ]
  },
  {
   "cell_type": "code",
   "execution_count": 13,
   "id": "43bd7ff5-c5f6-4e88-a84f-ff641fd92a28",
   "metadata": {},
   "outputs": [
    {
     "name": "stdin",
     "output_type": "stream",
     "text": [
      "Введите первоначальную сумму >>  10000\n",
      "Введите процентную ставку >>  5\n",
      "Введите срок вклада в годах >>  2\n"
     ]
    },
    {
     "data": {
      "text/plain": [
       "'Итоговая сумма депозита: 220264657.95'"
      ]
     },
     "execution_count": 13,
     "metadata": {},
     "output_type": "execute_result"
    }
   ],
   "source": [
    "task_4()"
   ]
  },
  {
   "cell_type": "code",
   "execution_count": 43,
   "id": "1d4bf602-a561-40c5-b288-efa06cf25f04",
   "metadata": {},
   "outputs": [],
   "source": [
    "from math import log\n",
    "\n",
    "def get_data(func):\n",
    "    def wrapper(*args, **kwargs)\n",
    "        p = float(input('Введите первоначальную сумму >> '))\n",
    "        a = float(input('Введите итоговую сумму >> '))\n",
    "        t = int(input('Введите срок вклада в годах >> '))\n",
    "        return func(p, a, t)\n",
    "    return wrapper\n",
    "\n",
    "@get_data\n",
    "def task_5(p, a, t):\n",
    "    return (f'Процентная ставка вклада: {round((1/t)*(log(a/p))*100, 2)}%')\n"
   ]
  },
  {
   "cell_type": "code",
   "execution_count": null,
   "id": "2a9ace00-b868-4919-bc5e-a57eb4957949",
   "metadata": {},
   "outputs": [],
   "source": [
    "get_data()"
   ]
  },
  {
   "cell_type": "code",
   "execution_count": 7,
   "id": "e1e98b3c-1ff7-4379-ad2e-3df6c491673b",
   "metadata": {},
   "outputs": [],
   "source": [
    "from math import sqrt\n",
    "\n",
    "def sqrt_newton_method(a, epsilon=1e-10):\n",
    "    x = a\n",
    "    while True:\n",
    "        next_x = 0.5 * (x + a / x)\n",
    "        if abs(x - next_x) < epsilon:\n",
    "            return next_x\n",
    "        x = next_x\n",
    "\n",
    "def task_6():\n",
    "    a = float(input('Введите число для извлечения квадратного корня >> '))\n",
    "    sqrt_newton = sqrt_newton_method(a)\n",
    "    sqrt_math = sqrt(a)\n",
    "    return (f'Квадратный корень из {a} методом Ньютона: {sqrt_newton}\\nКвадратный корень из {a} стандартной функцией: {sqrt_math}\\nРазница между методами: {sqrt_math - sqrt_newton}')\n"
   ]
  },
  {
   "cell_type": "code",
   "execution_count": 8,
   "id": "a1ae5f52-1f39-4ce3-8bc8-7fad4bf061e8",
   "metadata": {},
   "outputs": [
    {
     "name": "stdin",
     "output_type": "stream",
     "text": [
      "Введите число для извлечения квадратного корня >>  25\n"
     ]
    },
    {
     "name": "stdout",
     "output_type": "stream",
     "text": [
      "Квадратный корень из 25.0 методом Ньютона: 5.0\n",
      "Квадратный корень из 25.0 стандартной функцией: 5.0\n",
      "Разница между методами: 0.0\n"
     ]
    }
   ],
   "source": [
    "print(task_6())"
   ]
  },
  {
   "cell_type": "code",
   "execution_count": 26,
   "id": "be872062-4f48-4e1e-b5a0-b59e80cff120",
   "metadata": {},
   "outputs": [],
   "source": [
    "from math import sqrt, pow, acos, degrees\n",
    "\n",
    "def convert_to_tuple(string):\n",
    "    return tuple(float(x) for x in string.split(\",\"))\n",
    "\n",
    "def get_data(func):\n",
    "    def wrapper(*args, **kwargs):\n",
    "        vec_1 = convert_to_tuple(input('Введите координаты первого вектора (a, b) >> '))\n",
    "        vec_2 = convert_to_tuple(input('Введите координаты второго вектора (a, b) >> '))\n",
    "        return func(vec_1, vec_2)\n",
    "    return wrapper\n",
    "\n",
    "@get_data\n",
    "def task_7(vec_1, vec_2):\n",
    "    x1, x2 = vec_1[0], vec_2[0]\n",
    "    y1, y2 = vec_1[1], vec_2[1]\n",
    "    ab = x1*x2 + y1*y2\n",
    "    len_a = sqrt(pow(x1, 2) + pow (y1, 2))\n",
    "    len_b = sqrt(pow(x2, 2) + pow (y2, 2))\n",
    "    rad_angle = acos(round(ab/len_a/len_b, 2))\n",
    "    return (f'Угол между векторами равен: {degrees(rad_angle)} градусов')\n"
   ]
  },
  {
   "cell_type": "code",
   "execution_count": 27,
   "id": "911e155e-b39e-4b0e-be57-aaef19c3adc6",
   "metadata": {},
   "outputs": [
    {
     "name": "stdin",
     "output_type": "stream",
     "text": [
      "Введите координаты первого вектора (a, b) >>  2, -3\n",
      "Введите координаты второго вектора (a, b) >>  -2, 3\n"
     ]
    },
    {
     "data": {
      "text/plain": [
       "'Угол между векторами равен: 180.0 градусов'"
      ]
     },
     "execution_count": 27,
     "metadata": {},
     "output_type": "execute_result"
    }
   ],
   "source": [
    "task_7()"
   ]
  },
  {
   "cell_type": "code",
   "execution_count": 20,
   "id": "563bb34b-13f8-41ec-a1a7-c971bc18ae85",
   "metadata": {},
   "outputs": [],
   "source": [
    "from math import sin, cos, radians\n",
    "\n",
    "def get_data(func):\n",
    "    def wrapper(*args, **kwargs):\n",
    "        r = float(input('Введите радиус окружности >> '))\n",
    "        theta = float(input('Введите угол Theta (в градусах) >> '))\n",
    "        return func(r, theta)\n",
    "    return wrapper\n",
    "\n",
    "@get_data\n",
    "def task_8(r, angle):\n",
    "    x = r * round(cos(radians(angle)), 2)\n",
    "    y = r * round(sin(radians(angle)), 2)\n",
    "    return (f'Координаты точки P: ({x}, {y})')"
   ]
  },
  {
   "cell_type": "code",
   "execution_count": 22,
   "id": "50b21178-db41-4690-9b56-8f47e5d33c76",
   "metadata": {},
   "outputs": [
    {
     "name": "stdin",
     "output_type": "stream",
     "text": [
      "Введите радиус окружности >>  2\n",
      "Введите угол Theta (в градусах) >>  0\n"
     ]
    },
    {
     "data": {
      "text/plain": [
       "'Координаты точки P: (2.0, 0.0)'"
      ]
     },
     "execution_count": 22,
     "metadata": {},
     "output_type": "execute_result"
    }
   ],
   "source": [
    "task_8()"
   ]
  },
  {
   "cell_type": "code",
   "execution_count": 13,
   "id": "b38b125c-77ba-4e73-859e-be315511a5ef",
   "metadata": {},
   "outputs": [],
   "source": [
    "from math import erf, sqrt\n",
    "\n",
    "def get_data(func):\n",
    "    def wrapper(*args, **kwargs):\n",
    "        x = float(input('Введите X >> '))\n",
    "        return(func(x))\n",
    "    return wrapper\n",
    "\n",
    "@get_data\n",
    "def task_9(x):\n",
    "    probability = (1/2) * (erf(x / sqrt(2)) - erf(-x / sqrt(2)))\n",
    "    return (f'Вероятность равна: {probability}')"
   ]
  },
  {
   "cell_type": "code",
   "execution_count": 15,
   "id": "3bfca91b-0f83-441a-ae40-99bd1e5ef234",
   "metadata": {},
   "outputs": [
    {
     "name": "stdin",
     "output_type": "stream",
     "text": [
      "Введите X >>  2\n"
     ]
    },
    {
     "data": {
      "text/plain": [
       "'Вероятность равна: 0.9544997361036417'"
      ]
     },
     "execution_count": 15,
     "metadata": {},
     "output_type": "execute_result"
    }
   ],
   "source": [
    "task_9()"
   ]
  },
  {
   "cell_type": "code",
   "execution_count": 9,
   "id": "46783a3e-cd8f-4176-bd25-6d44215dcb8b",
   "metadata": {},
   "outputs": [],
   "source": [
    "from math import pi, pow, gamma\n",
    "\n",
    "def get_data(func):\n",
    "    def wrapper(*args, **kwargs):\n",
    "        n = int(input('Введите размерность пространства >> '))\n",
    "        r = int(input('Введите радиус сферы >> '))\n",
    "        return func(n, r)\n",
    "    return wrapper\n",
    "\n",
    "@get_data\n",
    "def task_10(n, r):\n",
    "    result = pow(pi, n/2) * pow(r, n) / gamma(n/2 + 1)\n",
    "    return (f'Объем {n}-мерной сферы радиуса {r} равен {result}')"
   ]
  },
  {
   "cell_type": "code",
   "execution_count": 11,
   "id": "ff0c04df-4c20-4ab9-a90d-d20dc03d03a1",
   "metadata": {},
   "outputs": [
    {
     "name": "stdin",
     "output_type": "stream",
     "text": [
      "Введите размерность пространства >>  1\n",
      "Введите радиус сферы >>  10\n"
     ]
    },
    {
     "data": {
      "text/plain": [
       "'Объем 1-мерной сферы радиуса 10 равен 19.999999999999996'"
      ]
     },
     "execution_count": 11,
     "metadata": {},
     "output_type": "execute_result"
    }
   ],
   "source": [
    "task_10()"
   ]
  },
  {
   "cell_type": "code",
   "execution_count": 35,
   "id": "25ececea-90b6-49e7-b71c-d6217843b604",
   "metadata": {},
   "outputs": [],
   "source": [
    "from math import sin, cos, exp, log, pi, e, pow\n",
    "\n",
    "def get_data(func):\n",
    "    def wrapper(*args, **kwargs):\n",
    "        angle = float(input('Введите угол падения солнечных лучей >> '))\n",
    "        sun_intensity = float(input('Введите интенсивность солнечного света >> '))\n",
    "        pressure = float(input('Введите атмосферное давление на уровне моря >> '))\n",
    "        return func(angle, sun_intensity, pressure)\n",
    "    return wrapper\n",
    "\n",
    "@get_data\n",
    "def complex_1(a, i, p):\n",
    "    effective_angle = sin(pi * a / 180)\n",
    "    p_eff = pow(e, (-p / 101325))\n",
    "    i_surf = round(i * effective_angle * log(p_eff + 1), 2)\n",
    "    if i_surf <= 0:\n",
    "        return f'Эффективная температура на поверхности: {i_surf} градусов по Цельсию. Вода в жидком состоянии существовать не может'\n",
    "    return f'Эффективная температура на поверхности: {i_surf} градусов по Цельсию. Вода в жидком состоянии может существовать'"
   ]
  },
  {
   "cell_type": "code",
   "execution_count": 36,
   "id": "52241d85-e626-425a-8916-75e228474285",
   "metadata": {},
   "outputs": [
    {
     "name": "stdin",
     "output_type": "stream",
     "text": [
      "Введите угол падения солнечных лучей >>  187\n",
      "Введите интенсивность солнечного света >>  6500\n",
      "Введите атмосферное давление на уровне моря >>  101325\n"
     ]
    },
    {
     "data": {
      "text/plain": [
       "'Эффективная температура на поверхности: -248.15 градусов по Цельсию. Вода в жидком состоянии существовать не может'"
      ]
     },
     "execution_count": 36,
     "metadata": {},
     "output_type": "execute_result"
    }
   ],
   "source": [
    "complex_1()"
   ]
  }
 ],
 "metadata": {
  "kernelspec": {
   "display_name": "Python 3 (ipykernel)",
   "language": "python",
   "name": "python3"
  },
  "language_info": {
   "codemirror_mode": {
    "name": "ipython",
    "version": 3
   },
   "file_extension": ".py",
   "mimetype": "text/x-python",
   "name": "python",
   "nbconvert_exporter": "python",
   "pygments_lexer": "ipython3",
   "version": "3.12.0"
  }
 },
 "nbformat": 4,
 "nbformat_minor": 5
}
